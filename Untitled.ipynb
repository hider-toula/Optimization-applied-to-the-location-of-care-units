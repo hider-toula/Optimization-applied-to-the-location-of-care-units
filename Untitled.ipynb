{
 "cells": [
  {
   "cell_type": "code",
   "execution_count": 5,
   "metadata": {},
   "outputs": [],
   "source": [
    "import pandas as pd\n",
    "import numpy as np\n",
    "import matplotlib.pyplot as plt\n",
    "from gurobipy import *"
   ]
  },
  {
   "cell_type": "code",
   "execution_count": 6,
   "metadata": {},
   "outputs": [],
   "source": [
    "data = pd.read_csv('villes.csv',sep=';',encoding='ISO-8859-1')"
   ]
  },
  {
   "cell_type": "code",
   "execution_count": 7,
   "metadata": {},
   "outputs": [],
   "source": [
    "popVille = data.iloc[:,0]"
   ]
  },
  {
   "cell_type": "code",
   "execution_count": 8,
   "metadata": {},
   "outputs": [],
   "source": [
    "dist = np.nan_to_num(data.iloc[:,2:])"
   ]
  },
  {
   "cell_type": "code",
   "execution_count": 9,
   "metadata": {},
   "outputs": [
    {
     "data": {
      "text/plain": [
       "<matplotlib.image.AxesImage at 0x250133d44f0>"
      ]
     },
     "execution_count": 9,
     "metadata": {},
     "output_type": "execute_result"
    },
    {
     "data": {
      "image/png": "[encoded data removed]",
      "text/plain": [
       "<Figure size 432x288 with 1 Axes>"
      ]
     },
     "metadata": {
      "needs_background": "light"
     },
     "output_type": "display_data"
    }
   ],
   "source": [
    "plt.imshow(dist+dist.T)"
   ]
  },
  {
   "cell_type": "code",
   "execution_count": 12,
   "metadata": {},
   "outputs": [
    {
     "data": {
      "text/plain": [
       "0.0"
      ]
     },
     "execution_count": 12,
     "metadata": {},
     "output_type": "execute_result"
    }
   ],
   "source": [
    "dist[0,0]"
   ]
  },
  {
   "cell_type": "code",
   "execution_count": 13,
   "metadata": {},
   "outputs": [
    {
     "data": {
      "text/plain": [
       "array([[   0.,    0.,    0.,    0.,    0.,    0.,    0.,    0.,    0.,\n",
       "           0.,    0.,    0.,    0.,    0.,    0.],\n",
       "       [ 562.,    0.,    0.,    0.,    0.,    0.,    0.,    0.,    0.,\n",
       "           0.,    0.,    0.,    0.,    0.,    0.],\n",
       "       [ 585., 1143.,    0.,    0.,    0.,    0.,    0.,    0.,    0.,\n",
       "           0.,    0.,    0.,    0.,    0.,    0.],\n",
       "       [ 242.,  326.,  824.,    0.,    0.,    0.,    0.,    0.,    0.,\n",
       "           0.,    0.,    0.,    0.,    0.,    0.],\n",
       "       [ 949.,  790.,  860.,  791.,    0.,    0.,    0.,    0.,    0.,\n",
       "           0.,    0.,    0.,    0.,    0.,    0.],\n",
       "       [ 245.,  803.,  347.,  482.,  942.,    0.,    0.,    0.,    0.,\n",
       "           0.,    0.,    0.,    0.,    0.,    0.],\n",
       "       [ 894., 1157.,  597.,  963.,  549.,  799.,    0.,    0.,    0.,\n",
       "           0.,    0.,    0.,    0.,    0.,    0.],\n",
       "       [ 697., 1186.,  107.,  894.,  827.,  458.,  572.,    0.,    0.,\n",
       "           0.,    0.,    0.,    0.,    0.,    0.],\n",
       "       [ 812.,  955.,  515.,  787.,  347.,  717.,  199.,  483.,    0.,\n",
       "           0.,    0.,    0.,    0.,    0.,    0.],\n",
       "       [ 536.,  490.,  662.,  322.,  550.,  530.,  749.,  699.,  546.,\n",
       "           0.,    0.,    0.,    0.,    0.,    0.],\n",
       "       [ 469.,  149., 1051.,  233.,  866.,  711., 1065., 1092.,  862.,\n",
       "         398.,    0.,    0.,    0.,    0.,    0.],\n",
       "       [ 848., 1119.,  384.,  917.,  695.,  651.,  316.,  280.,  344.,\n",
       "         720., 1026.,    0.,    0.,    0.,    0.],\n",
       "       [ 532.,  465.,  786.,  297.,  533.,  654.,  803.,  823.,  600.,\n",
       "         155.,  372.,  767.,    0.,    0.,    0.],\n",
       "       [ 644.,  660.,  638.,  492.,  332.,  640.,  501.,  620.,  298.,\n",
       "         251.,  567.,  506.,  304.,    0.,    0.],\n",
       "       [ 635., 1062.,   88.,  771.,  773.,  396.,  511.,  126.,  429.,\n",
       "         574.,  969.,  295.,  699.,  551.,    0.]])"
      ]
     },
     "execution_count": 13,
     "metadata": {},
     "output_type": "execute_result"
    }
   ],
   "source": [
    "dist"
   ]
  },
  {
   "cell_type": "code",
   "execution_count": 14,
   "metadata": {},
   "outputs": [],
   "source": [
    "popVille = popVille.values"
   ]
  },
  {
   "cell_type": "code",
   "execution_count": 15,
   "metadata": {},
   "outputs": [],
   "source": [
    "popTotale = np.sum(popVille)"
   ]
  },
  {
   "cell_type": "code",
   "execution_count": 16,
   "metadata": {},
   "outputs": [
    {
     "data": {
      "text/plain": [
       "3564500"
      ]
     },
     "execution_count": 16,
     "metadata": {},
     "output_type": "execute_result"
    }
   ],
   "source": [
    "popTotale"
   ]
  },
  {
   "cell_type": "code",
   "execution_count": 17,
   "metadata": {},
   "outputs": [],
   "source": [
    "dist = dist + dist.T"
   ]
  },
  {
   "cell_type": "code",
   "execution_count": 18,
   "metadata": {},
   "outputs": [
    {
     "name": "stdout",
     "output_type": "stream",
     "text": [
      "les distances entre les villes ----------------------------------------\n",
      "\n",
      "[[   0.  562.  585.  242.  949.  245.  894.  697.  812.  536.  469.  848.\n",
      "   532.  644.  635.]\n",
      " [ 562.    0. 1143.  326.  790.  803. 1157. 1186.  955.  490.  149. 1119.\n",
      "   465.  660. 1062.]\n",
      " [ 585. 1143.    0.  824.  860.  347.  597.  107.  515.  662. 1051.  384.\n",
      "   786.  638.   88.]\n",
      " [ 242.  326.  824.    0.  791.  482.  963.  894.  787.  322.  233.  917.\n",
      "   297.  492.  771.]\n",
      " [ 949.  790.  860.  791.    0.  942.  549.  827.  347.  550.  866.  695.\n",
      "   533.  332.  773.]\n",
      " [ 245.  803.  347.  482.  942.    0.  799.  458.  717.  530.  711.  651.\n",
      "   654.  640.  396.]\n",
      " [ 894. 1157.  597.  963.  549.  799.    0.  572.  199.  749. 1065.  316.\n",
      "   803.  501.  511.]\n",
      " [ 697. 1186.  107.  894.  827.  458.  572.    0.  483.  699. 1092.  280.\n",
      "   823.  620.  126.]\n",
      " [ 812.  955.  515.  787.  347.  717.  199.  483.    0.  546.  862.  344.\n",
      "   600.  298.  429.]\n",
      " [ 536.  490.  662.  322.  550.  530.  749.  699.  546.    0.  398.  720.\n",
      "   155.  251.  574.]\n",
      " [ 469.  149. 1051.  233.  866.  711. 1065. 1092.  862.  398.    0. 1026.\n",
      "   372.  567.  969.]\n",
      " [ 848. 1119.  384.  917.  695.  651.  316.  280.  344.  720. 1026.    0.\n",
      "   767.  506.  295.]\n",
      " [ 532.  465.  786.  297.  533.  654.  803.  823.  600.  155.  372.  767.\n",
      "     0.  304.  699.]\n",
      " [ 644.  660.  638.  492.  332.  640.  501.  620.  298.  251.  567.  506.\n",
      "   304.    0.  551.]\n",
      " [ 635. 1062.   88.  771.  773.  396.  511.  126.  429.  574.  969.  295.\n",
      "   699.  551.    0.]]\n",
      "les populations de chaque ville ---------------------------------------\n",
      "\n",
      "[479553 340017 309346 285121 280966 254436 232787 216815 182460 172565\n",
      " 171953 170147 158454 156920 152960]\n",
      "la population totale --------------------------------------------------\n",
      "\n",
      "3564500\n"
     ]
    }
   ],
   "source": [
    "print(\"les distances entre les villes ----------------------------------------\\n\")\n",
    "print(dist)\n",
    "print('les populations de chaque ville ---------------------------------------\\n')\n",
    "print(popVille)\n",
    "print('la population totale --------------------------------------------------\\n')\n",
    "print(popTotale)"
   ]
  },
  {
   "cell_type": "code",
   "execution_count": 23,
   "metadata": {},
   "outputs": [
    {
     "data": {
      "text/plain": [
       "15"
      ]
     },
     "execution_count": 23,
     "metadata": {},
     "output_type": "execute_result"
    }
   ],
   "source": [
    "len(unites)"
   ]
  },
  {
   "cell_type": "code",
   "execution_count": 25,
   "metadata": {},
   "outputs": [],
   "source": [
    "unities = [0,1,2]"
   ]
  },
  {
   "cell_type": "code",
   "execution_count": 28,
   "metadata": {},
   "outputs": [
    {
     "name": "stdout",
     "output_type": "stream",
     "text": [
      "Gurobi Optimizer version 9.1.1 build v9.1.1rc0 (win64)\n",
      "Thread count: 2 physical cores, 4 logical processors, using up to 4 threads\n",
      "Optimize a model with 18 rows, 45 columns and 90 nonzeros\n",
      "Model fingerprint: 0x0d88d5e2\n",
      "Variable types: 0 continuous, 45 integer (45 binary)\n",
      "Coefficient statistics:\n",
      "  Matrix range     [1e+00, 5e+05]\n",
      "  Objective range  [1e+07, 4e+08]\n",
      "  Bounds range     [1e+00, 1e+00]\n",
      "  RHS range        [1e+00, 1e+06]\n",
      "Found heuristic solution: objective 2.389386e+09\n",
      "Presolve time: 0.00s\n",
      "Presolved: 18 rows, 45 columns, 90 nonzeros\n",
      "Variable types: 0 continuous, 45 integer (45 binary)\n",
      "\n",
      "Root relaxation: objective 9.722100e+08, 15 iterations, 0.00 seconds\n",
      "\n",
      "    Nodes    |    Current Node    |     Objective Bounds      |     Work\n",
      " Expl Unexpl |  Obj  Depth IntInf | Incumbent    BestBd   Gap | It/Node Time\n",
      "\n",
      "*    0     0               0    9.722100e+08 9.7221e+08  0.00%     -    0s\n",
      "\n",
      "Explored 0 nodes (15 simplex iterations) in 0.03 seconds\n",
      "Thread count was 4 (of 4 available processors)\n",
      "\n",
      "Solution count 2: 9.7221e+08 2.38939e+09 \n",
      "\n",
      "Optimal solution found (tolerance 1.00e-04)\n",
      "Best objective 9.722100310000e+08, best bound 9.722100310000e+08, gap 0.0000%\n",
      "Valeur de la fonction objectif : 972210031.0\n"
     ]
    }
   ],
   "source": [
    "model = Model(\"Exo1\")\n",
    "x=model.addMVar(((len(popVille),3)), vtype=GRB.BINARY, name='x')\n",
    "\n",
    "model.update()\n",
    "\n",
    "#--------------Fonction Objective -----------------------------\n",
    "\n",
    "obj =0\n",
    "for ville in range(len(popVille)):\n",
    "    for ut in range(3):\n",
    "        obj += dist[ville][ut]*popVille[ville]*x[ville][ut]\n",
    "\n",
    "model.setObjective( obj, GRB.MINIMIZE)\n",
    "\n",
    "\n",
    "        \n",
    "#-------------Contraintes ----------------------------------------\n",
    "\n",
    "for ville in range(len(popVille)):    \n",
    "    model.addConstr(sum(x[ville][ut] for ut in range(3)) == 1)\n",
    "        \n",
    "        \n",
    "    \n",
    "alpha = 0.2\n",
    "gama = ((1 + alpha) / len(unities)) * popTotale\n",
    "\n",
    "\n",
    "for ut in range(3):  \n",
    "    model.addConstr(sum(x[ville][ut]*popVille[ville] for ville in range(len(popVille))) <= gama)\n",
    "\n",
    "    \n",
    "model.optimize()\n",
    "    \n",
    "    \n",
    "\n",
    "\n",
    "print('Valeur de la fonction objectif :', model.objVal)"
   ]
  },
  {
   "cell_type": "code",
   "execution_count": null,
   "metadata": {},
   "outputs": [],
   "source": [
    "m = gp.Model(\"Facility location\")\n",
    "\n",
    "# Decision variables: select facility locations\n",
    "select = m.addVars(range(num_candidates), vtype=GRB.BINARY, name='select')\n",
    "# Decision variables: assign customer clusters to a facility location\n",
    "assign = m.addVars(pairings.keys(), vtype=GRB.BINARY, name='assign')\n",
    "\n",
    "# Deploy Objective Function\n",
    "# 0. Total distance\n",
    "obj = gp.quicksum(weights[cluster]\n",
    "               *pairings[facility, cluster]\n",
    "               *assign[facility, cluster]\n",
    "               for facility, cluster in pairings.keys())\n",
    "m.setObjective(obj, GRB.MINIMIZE)\n",
    "\n",
    "# 1. Facility limit\n",
    "m.addConstr(select.sum() <= max_facilities, name=\"Facility_limit\")\n",
    "\n",
    "# 2. Open to assign\n",
    "m.addConstrs((assign[facility, cluster] <= select[facility]\n",
    "             for facility, cluster in pairings.keys()),\n",
    "            name=\"Open2assign\")\n",
    "\n",
    "# 3. Closest store\n",
    "m.addConstrs((assign.sum('*', cluster) == 1\n",
    "             for cluster in range(num_clusters)),\n",
    "            name=\"Closest_store\")\n",
    "\n",
    "# Find the optimal solution\n",
    "m.optimize()"
   ]
  }
 ],
 "metadata": {
  "kernelspec": {
   "display_name": "Python 3",
   "language": "python",
   "name": "python3"
  },
  "language_info": {
   "codemirror_mode": {
    "name": "ipython",
    "version": 3
   },
   "file_extension": ".py",
   "mimetype": "text/x-python",
   "name": "python",
   "nbconvert_exporter": "python",
   "pygments_lexer": "ipython3",
   "version": "3.8.3"
  }
 },
 "nbformat": 4,
 "nbformat_minor": 4
}
